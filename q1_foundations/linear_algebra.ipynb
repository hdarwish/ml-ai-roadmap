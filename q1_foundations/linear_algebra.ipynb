{
 "cells": [
  {
   "cell_type": "markdown",
   "metadata": {},
   "source": [
    "# Linear Algebra Foundations - Interactive Notebook\n",
    "\n",
    "This notebook contains all the linear algebra implementations from the companion Python script, organized into separate cells for interactive exploration.\n",
    "\n",
    "## Learning Objectives:\n",
    "- Understand vector operations and matrix manipulations\n",
    "- Implement core linear algebra functions from scratch\n",
    "- Compare manual implementations with NumPy functions\n",
    "- Explore concepts like determinants, inverses, and matrix spaces\n"
   ]
  },
  {
   "cell_type": "code",
   "execution_count": 4,
   "metadata": {},
   "outputs": [
    {
     "name": "stdout",
     "output_type": "stream",
     "text": [
      "Array a:\n",
      "[[ 0  1  2  3  4]\n",
      " [ 5  6  7  8  9]\n",
      " [10 11 12 13 14]]\n",
      "Shape: (3, 5), Type: <class 'numpy.ndarray'>, Data type: int64\n",
      "\n",
      "Array b:\n",
      "[6 7 8]\n",
      "Shape: (3,), Type: <class 'numpy.ndarray'>, Data type: int64\n"
     ]
    }
   ],
   "source": [
    "# Import required libraries\n",
    "import numpy as np\n",
    "import matplotlib.pyplot as plt\n",
    "\n",
    "# Enable inline plotting for Jupyter\n",
    "%matplotlib inline\n",
    "\n",
    "# Create some initial arrays to explore\n",
    "a = np.arange(15).reshape(3, 5)\n",
    "b = np.array([6, 7, 8])\n",
    "\n",
    "print(\"Array a:\")\n",
    "print(a)\n",
    "print(f\"Shape: {a.shape}, Type: {type(a)}, Data type: {a.dtype}\")\n",
    "\n",
    "print(\"\\nArray b:\")\n",
    "print(b)\n",
    "print(f\"Shape: {b.shape}, Type: {type(b)}, Data type: {b.dtype}\")"
   ]
  },
  {
   "cell_type": "markdown",
   "metadata": {
    "vscode": {
     "languageId": "raw"
    }
   },
   "source": [
    "## 1. Vector Operations\n",
    "\n",
    "Let's start with basic vector operations: addition, subtraction, and scalar multiplication.\n"
   ]
  },
  {
   "cell_type": "code",
   "execution_count": 7,
   "metadata": {},
   "outputs": [
    {
     "name": "stdout",
     "output_type": "stream",
     "text": [
      "Vector addition:\n",
      "v1 + v2 = [5 7 9]\n",
      "\n",
      "Vector subtraction:\n",
      "v1 - v2 = [-3 -3 -3]\n",
      "\n",
      "Scalar multiplication:\n",
      "2 * v1 = [2 4 6]\n"
     ]
    }
   ],
   "source": [
    "# Create some sample vectors\n",
    "v1 = np.array([1, 2, 3])\n",
    "v2 = np.array([4, 5, 6])\n",
    "\n",
    "# Vector addition\n",
    "print(\"Vector addition:\")\n",
    "print(f\"v1 + v2 = {v1 + v2}\")\n",
    "\n",
    "# Vector subtraction \n",
    "print(\"\\nVector subtraction:\")\n",
    "print(f\"v1 - v2 = {v1 - v2}\")\n",
    "\n",
    "# Scalar multiplication\n",
    "scalar = 2\n",
    "print(\"\\nScalar multiplication:\")\n",
    "print(f\"{scalar} * v1 = {scalar * v1}\")\n"
   ]
  },
  {
   "cell_type": "markdown",
   "metadata": {
    "vscode": {
     "languageId": "raw"
    }
   },
   "source": [
    "## 2. Dot Product - Manual vs NumPy Implementation\n",
    "\n",
    "Compare manual dot product calculation with NumPy's built-in function.\n"
   ]
  },
  {
   "cell_type": "code",
   "execution_count": 8,
   "metadata": {},
   "outputs": [
    {
     "name": "stdout",
     "output_type": "stream",
     "text": [
      "Manual dot product:\n",
      "32\n",
      "\n",
      "NumPy dot product:\n",
      "32\n",
      "\n",
      "Alternative NumPy dot product:\n",
      "32\n"
     ]
    }
   ],
   "source": [
    "def manual_dot_product(v1, v2):\n",
    "    \"\"\"Calculate dot product manually using basic Python operations\"\"\"\n",
    "    if len(v1) != len(v2):\n",
    "        raise ValueError(\"Vectors must be of the same length\")\n",
    "    return sum(x * y for x, y in zip(v1, v2))\n",
    "\n",
    "def vector_dot_product(v1, v2):\n",
    "    \"\"\"Calculate dot product using NumPy\"\"\"\n",
    "    return v1 @ v2\n",
    "\n",
    "# Test both implementations\n",
    "print(\"Manual dot product:\")\n",
    "print(manual_dot_product(v1, v2))\n",
    "print(\"\\nNumPy dot product:\")\n",
    "print(vector_dot_product(v1, v2))\n",
    "print(\"\\nAlternative NumPy dot product:\")\n",
    "print(np.dot(v1, v2))\n"
   ]
  },
  {
   "cell_type": "markdown",
   "metadata": {
    "vscode": {
     "languageId": "raw"
    }
   },
   "source": [
    "## 3. Matrix Transpose\n",
    "\n",
    "Implement matrix transpose manually and compare with NumPy.\n"
   ]
  },
  {
   "cell_type": "code",
   "execution_count": 9,
   "metadata": {},
   "outputs": [
    {
     "name": "stdout",
     "output_type": "stream",
     "text": [
      "Original matrix:\n",
      "[[ 0  1  2  3  4]\n",
      " [ 5  6  7  8  9]\n",
      " [10 11 12 13 14]]\n",
      "\n",
      "Manual transpose:\n",
      "[[ 0  5 10]\n",
      " [ 1  6 11]\n",
      " [ 2  7 12]\n",
      " [ 3  8 13]\n",
      " [ 4  9 14]]\n",
      "\n",
      "NumPy transpose:\n",
      "[[ 0  5 10]\n",
      " [ 1  6 11]\n",
      " [ 2  7 12]\n",
      " [ 3  8 13]\n",
      " [ 4  9 14]]\n"
     ]
    }
   ],
   "source": [
    "def manual_matrix_transpose(matrix):\n",
    "    \"\"\"Calculate matrix transpose manually\"\"\"\n",
    "    return np.array([[row[i] for row in matrix] for i in range(len(matrix[0]))])\n",
    "\n",
    "def matrix_transpose(matrix):\n",
    "    \"\"\"Calculate matrix transpose using NumPy\"\"\"\n",
    "    return matrix.T\n",
    "\n",
    "# Test with our matrix 'a'\n",
    "print(\"Original matrix:\")\n",
    "print(a)\n",
    "print(\"\\nManual transpose:\")\n",
    "print(manual_matrix_transpose(a))\n",
    "print(\"\\nNumPy transpose:\")\n",
    "print(matrix_transpose(a))\n"
   ]
  },
  {
   "cell_type": "markdown",
   "metadata": {
    "vscode": {
     "languageId": "raw"
    }
   },
   "source": [
    "## 4. Determinants - 2x2 and 3x3 Matrices\n",
    "\n",
    "Calculate determinants manually using the mathematical formulas.\n"
   ]
  },
  {
   "cell_type": "code",
   "execution_count": 10,
   "metadata": {},
   "outputs": [
    {
     "name": "stdout",
     "output_type": "stream",
     "text": [
      "2x2 matrix:\n",
      "[[1 2]\n",
      " [3 4]]\n",
      "Manual determinant 2x2: -2\n",
      "NumPy determinant 2x2: -2.0000000000000004\n",
      "\n",
      "3x3 matrix:\n",
      "[[1 2 3]\n",
      " [4 5 6]\n",
      " [7 8 9]]\n",
      "Manual determinant 3x3: 0\n",
      "NumPy determinant 3x3: 0.0\n"
     ]
    }
   ],
   "source": [
    "def manual_determinant_2x2(matrix):\n",
    "    \"\"\"Calculate 2x2 determinant using formula: ad - bc\"\"\"\n",
    "    if matrix.shape != (2, 2):\n",
    "        raise ValueError(\"Matrix must be a 2x2\")\n",
    "    return matrix[0, 0] * matrix[1, 1] - matrix[0, 1] * matrix[1, 0]\n",
    "\n",
    "def determinant_2x2(matrix):\n",
    "    \"\"\"Calculate 2x2 determinant using NumPy\"\"\"\n",
    "    return np.linalg.det(matrix)\n",
    "\n",
    "def manual_determinant_3x3(matrix):\n",
    "    \"\"\"Calculate 3x3 determinant using cofactor expansion\"\"\"\n",
    "    if matrix.shape != (3, 3):\n",
    "        raise ValueError(\"Matrix must be a 3x3\")\n",
    "    return (\n",
    "        matrix[0, 0] * matrix[1, 1] * matrix[2, 2] +\n",
    "        matrix[0, 1] * matrix[1, 2] * matrix[2, 0] +\n",
    "        matrix[0, 2] * matrix[1, 0] * matrix[2, 1] -\n",
    "        matrix[0, 2] * matrix[1, 1] * matrix[2, 0] -\n",
    "        matrix[0, 1] * matrix[1, 0] * matrix[2, 2] -\n",
    "        matrix[0, 0] * matrix[1, 2] * matrix[2, 1]\n",
    "    )\n",
    "\n",
    "def determinant_3x3(matrix):\n",
    "    \"\"\"Calculate 3x3 determinant using NumPy\"\"\"\n",
    "    return np.linalg.det(matrix)\n",
    "\n",
    "# Test matrices\n",
    "a2x2 = np.array([[1, 2], [3, 4]])\n",
    "a3x3 = np.array([[1, 2, 3], [4, 5, 6], [7, 8, 9]])\n",
    "\n",
    "print(\"2x2 matrix:\")\n",
    "print(a2x2)\n",
    "print(\"Manual determinant 2x2:\", manual_determinant_2x2(a2x2))\n",
    "print(\"NumPy determinant 2x2:\", determinant_2x2(a2x2))\n",
    "\n",
    "print(\"\\n3x3 matrix:\")\n",
    "print(a3x3)\n",
    "print(\"Manual determinant 3x3:\", manual_determinant_3x3(a3x3))\n",
    "print(\"NumPy determinant 3x3:\", determinant_3x3(a3x3))\n"
   ]
  },
  {
   "cell_type": "markdown",
   "metadata": {
    "vscode": {
     "languageId": "raw"
    }
   },
   "source": [
    "## 5. Matrix Inverses\n",
    "\n",
    "Calculate matrix inverses and explore singular matrices.\n"
   ]
  },
  {
   "cell_type": "code",
   "execution_count": 11,
   "metadata": {},
   "outputs": [
    {
     "name": "stdout",
     "output_type": "stream",
     "text": [
      "Manual inverse 2x2:\n",
      "[[-2.   1. ]\n",
      " [ 1.5 -0.5]]\n",
      "\n",
      "NumPy inverse 2x2:\n",
      "[[-2.   1. ]\n",
      " [ 1.5 -0.5]]\n",
      "\n",
      "Singular matrix:\n",
      "[[1 2]\n",
      " [2 4]]\n",
      "Determinant of singular matrix: 0.0\n"
     ]
    }
   ],
   "source": [
    "def manual_inverse_2x2(matrix):\n",
    "    \"\"\"Calculate 2x2 matrix inverse manually\"\"\"\n",
    "    if matrix.shape != (2, 2):\n",
    "        raise ValueError(\"Matrix must be a 2x2\")\n",
    "    determinant = matrix[0, 0] * matrix[1, 1] - matrix[0, 1] * matrix[1, 0]\n",
    "    if determinant == 0:\n",
    "        raise ValueError(\"Matrix is singular, cannot be inverted\")\n",
    "    return np.array([[matrix[1, 1] / determinant, -matrix[0, 1] / determinant], \n",
    "                     [-matrix[1, 0] / determinant, matrix[0, 0] / determinant]])\n",
    "\n",
    "def inverse_2x2(matrix):\n",
    "    \"\"\"Calculate 2x2 matrix inverse using NumPy\"\"\"\n",
    "    return np.linalg.inv(matrix)\n",
    "\n",
    "def inverse_3x3(matrix):\n",
    "    \"\"\"Calculate 3x3 matrix inverse using NumPy\"\"\"\n",
    "    return np.linalg.inv(matrix)\n",
    "\n",
    "print(\"Manual inverse 2x2:\")\n",
    "print(manual_inverse_2x2(a2x2))\n",
    "print(\"\\nNumPy inverse 2x2:\")\n",
    "print(inverse_2x2(a2x2))\n",
    "\n",
    "# Test with a singular (non-invertible) matrix\n",
    "a_singular = np.array([[1, 2], [2, 4]])\n",
    "print(\"\\nSingular matrix:\")\n",
    "print(a_singular)\n",
    "print(\"Determinant of singular matrix:\", determinant_2x2(a_singular))\n",
    "\n",
    "# This would raise an error:\n",
    "# print(\"Inverse of singular matrix:\")\n",
    "# print(inverse_2x2(a_singular))\n"
   ]
  },
  {
   "cell_type": "markdown",
   "metadata": {
    "vscode": {
     "languageId": "raw"
    }
   },
   "source": [
    "## 6. Column Space and Null Space\n",
    "\n",
    "Explore the concepts of column space and null space using the singular matrix.\n"
   ]
  },
  {
   "cell_type": "code",
   "execution_count": 12,
   "metadata": {},
   "outputs": [
    {
     "name": "stdout",
     "output_type": "stream",
     "text": [
      "Column space of singular matrix:\n",
      "Matrix rank: 1\n",
      "\n",
      "Vector v in column space of A:\n",
      "A = \n",
      "[[1 2]\n",
      " [2 4]]\n",
      "x = [1 0]\n",
      "v = Ax = [1 2]\n",
      "v is in column space since it's a linear combination of A's columns\n",
      "\n",
      "Vector x in null space of A:\n",
      "x = [ 2 -1]\n",
      "Ax = [0 0]\n",
      "x is in null space since Ax = 0\n",
      "Is Ax zero? True\n"
     ]
    }
   ],
   "source": [
    "# Column space exploration\n",
    "print(\"Column space of singular matrix:\")\n",
    "print(\"Matrix rank:\", np.linalg.matrix_rank(a_singular))\n",
    "\n",
    "# Find a vector v in the column space of A\n",
    "# Any vector v that can be written as a linear combination of A's columns is in the column space\n",
    "A = a_singular  # Using our singular matrix as an example\n",
    "x = np.array([1, 0])  # Try this vector\n",
    "v = A @ x  # v will be in the column space by construction\n",
    "print(\"\\nVector v in column space of A:\")\n",
    "print(f\"A = \\n{A}\")\n",
    "print(f\"x = {x}\")\n",
    "print(f\"v = Ax = {v}\")\n",
    "print(\"v is in column space since it's a linear combination of A's columns\")\n",
    "\n",
    "# Find a vector in the null space of A\n",
    "# For singular matrix, there exists non-zero x where Ax = 0\n",
    "# For our singular matrix where second row is 2× first row\n",
    "# If x = [2, -1], then Ax = 0:\n",
    "x_null = np.array([2, -1])\n",
    "result = A @ x_null\n",
    "print(\"\\nVector x in null space of A:\")\n",
    "print(f\"x = {x_null}\")\n",
    "print(f\"Ax = {result}\")\n",
    "print(\"x is in null space since Ax = 0\")\n",
    "\n",
    "# Verify this is indeed in null space\n",
    "is_zero = np.allclose(result, np.zeros_like(result))\n",
    "print(f\"Is Ax zero? {is_zero}\")\n"
   ]
  },
  {
   "cell_type": "markdown",
   "metadata": {
    "vscode": {
     "languageId": "raw"
    }
   },
   "source": [
    "## 7. Visualization with Matplotlib\n",
    "\n",
    "Create a simple plot to demonstrate matplotlib integration.\n"
   ]
  },
  {
   "cell_type": "code",
   "execution_count": 13,
   "metadata": {},
   "outputs": [
    {
     "data": {
      "image/png": "[encoded data removed]",
      "text/plain": [
       "<Figure size 1000x600 with 1 Axes>"
      ]
     },
     "metadata": {},
     "output_type": "display_data"
    },
    {
     "name": "stdout",
     "output_type": "stream",
     "text": [
      "Plot completed! This demonstrates matplotlib integration with our linear algebra work.\n"
     ]
    }
   ],
   "source": [
    "# Create a simple parabola plot\n",
    "x = np.linspace(0, 2, 100)\n",
    "y = x ** 2\n",
    "\n",
    "plt.figure(figsize=(10, 6))\n",
    "plt.plot(x, y, 'b-', linewidth=2, label='y = x²')\n",
    "plt.xlabel('x')\n",
    "plt.ylabel('y')\n",
    "plt.title('Example Parabola - Linear Algebra Foundations')\n",
    "plt.grid(True, alpha=0.3)\n",
    "plt.legend()\n",
    "plt.show()\n",
    "\n",
    "print(\"Plot completed! This demonstrates matplotlib integration with our linear algebra work.\")\n"
   ]
  },
  {
   "cell_type": "markdown",
   "metadata": {
    "vscode": {
     "languageId": "raw"
    }
   },
   "source": [
    "## 8. Eigenvalues and Eigenvectors\n",
    "\n",
    "Eigenvalues and eigenvectors are fundamental concepts in linear algebra with applications throughout ML/AI.\n",
    "\n",
    "**Key Concepts:**\n",
    "- An eigenvector of a matrix A is a non-zero vector v such that Av = λv for some scalar λ\n",
    "- λ (lambda) is called the eigenvalue corresponding to eigenvector v\n",
    "- Geometrically: eigenvectors are directions that don't change when the transformation A is applied\n",
    "- Only the magnitude changes, by a factor of the eigenvalue\n",
    "\n",
    "**Applications in ML:**\n",
    "- Principal Component Analysis (PCA) for dimensionality reduction\n",
    "- Stability analysis of neural networks\n",
    "- PageRank algorithm\n",
    "- Spectral clustering\n"
   ]
  },
  {
   "cell_type": "code",
   "execution_count": 14,
   "metadata": {},
   "outputs": [
    {
     "name": "stdout",
     "output_type": "stream",
     "text": [
      "Diagonal matrix:\n",
      "[[2 0]\n",
      " [0 3]]\n",
      "\n",
      "Eigenvalues: [2. 3.]\n",
      "Eigenvectors:\n",
      "[[1. 0.]\n",
      " [0. 1.]]\n",
      "\n",
      "Verification (Av = λv):\n",
      "\n",
      "Eigenvector 1: [1. 0.]\n",
      "A @ v = [2. 0.]\n",
      "λ * v = [2. 0.]\n",
      "Are they equal? True\n",
      "\n",
      "Eigenvector 2: [0. 1.]\n",
      "A @ v = [0. 3.]\n",
      "λ * v = [0. 3.]\n",
      "Are they equal? True\n"
     ]
    }
   ],
   "source": [
    "# Let's start with a simple diagonal matrix\n",
    "# For diagonal matrices, eigenvalues are the diagonal elements\n",
    "# and eigenvectors are the standard basis vectors\n",
    "\n",
    "diagonal_matrix = np.array([[2, 0], [0, 3]])\n",
    "print(\"Diagonal matrix:\")\n",
    "print(diagonal_matrix)\n",
    "\n",
    "# Calculate eigenvalues and eigenvectors using NumPy\n",
    "eigenvalues, eigenvectors = np.linalg.eig(diagonal_matrix)\n",
    "\n",
    "print(f\"\\nEigenvalues: {eigenvalues}\")\n",
    "print(f\"Eigenvectors:\\n{eigenvectors}\")\n",
    "\n",
    "# Let's verify the fundamental equation: Av = λv\n",
    "print(\"\\nVerification (Av = λv):\")\n",
    "for i in range(len(eigenvalues)):\n",
    "    v = eigenvectors[:, i]  # i-th eigenvector (column)\n",
    "    lam = eigenvalues[i]    # i-th eigenvalue\n",
    "    \n",
    "    Av = diagonal_matrix @ v\n",
    "    lambda_v = lam * v\n",
    "    \n",
    "    print(f\"\\nEigenvector {i+1}: {v}\")\n",
    "    print(f\"A @ v = {Av}\")\n",
    "    print(f\"λ * v = {lambda_v}\")\n",
    "    print(f\"Are they equal? {np.allclose(Av, lambda_v)}\")\n"
   ]
  },
  {
   "cell_type": "code",
   "execution_count": null,
   "metadata": {},
   "outputs": [],
   "source": [
    "# Now let's try a more interesting case: a shear matrix\n",
    "# Shear transformations are more complex and have interesting eigenproperties\n",
    "\n",
    "shear_matrix = np.array([[1, 1], [0, 1]])\n",
    "print(\"Shear matrix:\")\n",
    "print(shear_matrix)\n",
    "\n",
    "# Calculate eigenvalues and eigenvectors\n",
    "eigenvalues_shear, eigenvectors_shear = np.linalg.eig(shear_matrix)\n",
    "\n",
    "print(f\"\\nEigenvalues: {eigenvalues_shear}\")\n",
    "print(f\"Eigenvectors:\\n{eigenvectors_shear}\")\n",
    "\n",
    "# Verify the fundamental equation\n",
    "print(\"\\nVerification for shear matrix:\")\n",
    "for i in range(len(eigenvalues_shear)):\n",
    "    v = eigenvectors_shear[:, i]\n",
    "    lam = eigenvalues_shear[i]\n",
    "    \n",
    "    Av = shear_matrix @ v\n",
    "    lambda_v = lam * v\n",
    "    \n",
    "    print(f\"\\nEigenvector {i+1}: {v}\")\n",
    "    print(f\"A @ v = {Av}\")\n",
    "    print(f\"λ * v = {lambda_v}\")\n",
    "    print(f\"Are they equal? {np.allclose(Av, lambda_v)}\")\n",
    "\n",
    "# Note: Shear matrices have repeated eigenvalues but may not be diagonalizable\n",
    "print(f\"\\nNote: This shear matrix has repeated eigenvalue λ = {eigenvalues_shear[0]}\")\n",
    "print(\"This represents a case where the transformation stretches along one direction only.\")\n"
   ]
  },
  {
   "cell_type": "code",
   "execution_count": null,
   "metadata": {},
   "outputs": [],
   "source": [
    "# Let's explore a symmetric matrix, which has nice eigenvalue properties\n",
    "# Symmetric matrices always have real eigenvalues and orthogonal eigenvectors\n",
    "\n",
    "symmetric_matrix = np.array([[4, 2], [2, 1]])\n",
    "print(\"Symmetric matrix:\")\n",
    "print(symmetric_matrix)\n",
    "\n",
    "eigenvalues_sym, eigenvectors_sym = np.linalg.eig(symmetric_matrix)\n",
    "\n",
    "print(f\"\\nEigenvalues: {eigenvalues_sym}\")\n",
    "print(f\"Eigenvectors:\\n{eigenvectors_sym}\")\n",
    "\n",
    "# Check if eigenvectors are orthogonal (dot product should be ~0)\n",
    "v1, v2 = eigenvectors_sym[:, 0], eigenvectors_sym[:, 1]\n",
    "dot_product = np.dot(v1, v2)\n",
    "print(f\"\\nDot product of eigenvectors: {dot_product}\")\n",
    "print(f\"Are eigenvectors orthogonal? {np.allclose(dot_product, 0)}\")\n",
    "\n",
    "# Verify the eigenvalue equation for both eigenvectors\n",
    "print(\"\\nVerification:\")\n",
    "for i in range(len(eigenvalues_sym)):\n",
    "    v = eigenvectors_sym[:, i]\n",
    "    lam = eigenvalues_sym[i]\n",
    "    \n",
    "    Av = symmetric_matrix @ v\n",
    "    lambda_v = lam * v\n",
    "    \n",
    "    print(f\"\\nEigenvector {i+1}: {v}\")\n",
    "    print(f\"Eigenvalue {i+1}: {lam}\")\n",
    "    print(f\"A @ v = {Av}\")\n",
    "    print(f\"λ * v = {lambda_v}\")\n",
    "    print(f\"Verification: {np.allclose(Av, lambda_v)}\")\n"
   ]
  },
  {
   "cell_type": "code",
   "execution_count": null,
   "metadata": {},
   "outputs": [],
   "source": [
    "# Geometric interpretation: Visualizing eigenvectors\n",
    "# Let's create a visualization to understand what eigenvectors represent\n",
    "\n",
    "fig, (ax1, ax2) = plt.subplots(1, 2, figsize=(15, 6))\n",
    "\n",
    "# Original vectors to transform\n",
    "original_vectors = np.array([[1, 0], [0, 1], [1, 1], [1, -1]]).T\n",
    "\n",
    "# Transform with our symmetric matrix\n",
    "transformed_vectors = symmetric_matrix @ original_vectors\n",
    "\n",
    "# Plot 1: Show original and transformed vectors\n",
    "ax1.quiver([0, 0, 0, 0], [0, 0, 0, 0], \n",
    "           original_vectors[0], original_vectors[1], \n",
    "           angles='xy', scale_units='xy', scale=1, color='blue', alpha=0.7, \n",
    "           label='Original vectors', width=0.005)\n",
    "\n",
    "ax1.quiver([0, 0, 0, 0], [0, 0, 0, 0], \n",
    "           transformed_vectors[0], transformed_vectors[1], \n",
    "           angles='xy', scale_units='xy', scale=1, color='red', alpha=0.7,\n",
    "           label='Transformed vectors', width=0.005)\n",
    "\n",
    "# Add eigenvectors (scaled for visibility)\n",
    "scale_factor = 2\n",
    "for i, (eigenval, eigenvec) in enumerate(zip(eigenvalues_sym, eigenvectors_sym.T)):\n",
    "    ax1.quiver(0, 0, scale_factor * eigenvec[0], scale_factor * eigenvec[1], \n",
    "               angles='xy', scale_units='xy', scale=1, \n",
    "               color='green', width=0.008,\n",
    "               label=f'Eigenvector {i+1} (λ={eigenval:.2f})' if i < 2 else \"\")\n",
    "\n",
    "ax1.set_xlim(-3, 6)\n",
    "ax1.set_ylim(-3, 4)\n",
    "ax1.grid(True, alpha=0.3)\n",
    "ax1.set_aspect('equal')\n",
    "ax1.legend()\n",
    "ax1.set_title('Vector Transformation and Eigenvectors')\n",
    "ax1.set_xlabel('x')\n",
    "ax1.set_ylabel('y')\n",
    "\n",
    "# Plot 2: Show how eigenvectors behave under transformation\n",
    "ax2.quiver([0, 0], [0, 0], \n",
    "           eigenvectors_sym[0], eigenvectors_sym[1], \n",
    "           angles='xy', scale_units='xy', scale=1, color='green', \n",
    "           label='Original eigenvectors', width=0.008)\n",
    "\n",
    "# Transform eigenvectors\n",
    "transformed_eigenvectors = symmetric_matrix @ eigenvectors_sym\n",
    "ax2.quiver([0, 0], [0, 0], \n",
    "           transformed_eigenvectors[0], transformed_eigenvectors[1], \n",
    "           angles='xy', scale_units='xy', scale=1, color='orange', \n",
    "           label='Transformed eigenvectors', width=0.008)\n",
    "\n",
    "ax2.set_xlim(-2, 2)\n",
    "ax2.set_ylim(-2, 2)\n",
    "ax2.grid(True, alpha=0.3)\n",
    "ax2.set_aspect('equal')\n",
    "ax2.legend()\n",
    "ax2.set_title('Eigenvectors: Direction Preserved')\n",
    "ax2.set_xlabel('x')\n",
    "ax2.set_ylabel('y')\n",
    "\n",
    "plt.tight_layout()\n",
    "plt.show()\n",
    "\n",
    "print(\"Key Observations:\")\n",
    "print(\"1. Eigenvectors maintain their direction after transformation\")\n",
    "print(\"2. Only their magnitude changes by the eigenvalue factor\")\n",
    "print(\"3. Other vectors change both direction and magnitude\")\n",
    "print(\"4. Eigenvectors represent the 'natural' directions of the transformation\")\n"
   ]
  },
  {
   "cell_type": "markdown",
   "metadata": {},
   "source": [
    "## Convex Combinations\n",
    "Learn about convex combinations by implementing an interesting example of morphing."
   ]
  },
  {
   "cell_type": "code",
   "execution_count": null,
   "metadata": {},
   "outputs": [],
   "source": [
    "import numpy as np\n",
    "import matplotlib.pyplot as plt\n",
    "\n",
    "# Reading the two images\n",
    "I = plt.imread('young.png')\n",
    "J = plt.imread('aged.png')\n",
    "\n",
    "# Selecting number of intermediate combinations and creating subplots\n",
    "n = 15\n",
    "fig, ax = plt.subplots(1, n, figsize=(50, 25))\n",
    "\n",
    "# Generating convex combinations and plotting them\n",
    "for i, alpha in zip(np.arange(n), np.linspace(0, 1, n)):\n",
    "    im = (1-alpha)*I + alpha*J\n",
    "    print(im)\n",
    "    ax[i].imshow(im, cmap='bone');ax[i].axis('off')\n",
    "    ax[i].set_title(str(np.round(alpha, 2)))"
   ]
  },
  {
   "cell_type": "markdown",
   "metadata": {},
   "source": [
    "## Linear System Solver\n",
    "Design a Python algorithm to solve a system of linear equations."
   ]
  },
  {
   "cell_type": "code",
   "execution_count": 17,
   "metadata": {},
   "outputs": [
    {
     "name": "stdout",
     "output_type": "stream",
     "text": [
      "Intersection does not exist\n"
     ]
    }
   ],
   "source": [
    "import numpy as np\n",
    "\n",
    "def findInstersectionIfExists(e1: np.array, e2: np.array) -> str:\n",
    "    alpha = e1[0]/e2[0]\n",
    "    e2 = e2*alpha\n",
    "    if (e2==e1).all():\n",
    "        return \"There are infinitely many solutions\"\n",
    "    elif (e2[:2] == e1[:2]).all():\n",
    "        return \"Intersection does not exist\"\n",
    "    else:\n",
    "        e2 = e2 - e1\n",
    "        w2 = e2[2]/e2[1]\n",
    "        w1 = (e1[2]-(e1[1]*w2))/e1[0]\n",
    "        return '%.3f , %.3f' %(w1,w2)\n",
    "\n",
    "# Verify solution\n",
    "#e1 = np.array([2, 4, 9])\n",
    "#e1 = np.array([2, 2, 4])\n",
    "e1 = np.array([2, 4, 9])\n",
    "#e2 = np.array([3, 7, 3])\n",
    "#e2 = np.array([4, 4, 8])\n",
    "e2 = np.array([2, 4, 3])\n",
    "print(findInstersectionIfExists(e1,e2))"
   ]
  }
 ],
 "metadata": {
  "kernelspec": {
   "display_name": ".venv",
   "language": "python",
   "name": "python3"
  },
  "language_info": {
   "codemirror_mode": {
    "name": "ipython",
    "version": 3
   },
   "file_extension": ".py",
   "mimetype": "text/x-python",
   "name": "python",
   "nbconvert_exporter": "python",
   "pygments_lexer": "ipython3",
   "version": "3.12.3"
  }
 },
 "nbformat": 4,
 "nbformat_minor": 2
}
